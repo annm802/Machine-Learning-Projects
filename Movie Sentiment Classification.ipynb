{
  "cells": [
    {
      "cell_type": "markdown",
      "metadata": {
        "id": "f2S8I2ny-ovS"
      },
      "source": [
        "# ANLP Assignment: Sentiment Classification\n",
        "\n",
        "In this assignment, you will be investigating NLP methods for distinguishing positive and negative reviews written about movies.\n",
        "\n",
        "For assessment, you are expected to complete and submit this notebook file.  When answers require code, you may import and use library functions (unless explicitly told otherwise).  All of your own code should be included in the notebook rather than imported from elsewhere.  Written answers should also be included in the notebook.  You should insert as many extra cells as you want and change the type between code and markdown as appropriate.\n",
        "\n",
        "In order to avoid misconduct, you should not talk about the assignment questions with your peers.  If you are not sure what a question is asking you to do or have any other questions, please ask me or one of the Teaching Assistants.\n",
        "\n",
        "Marking guidelines are provided as a separate document.\n",
        "\n",
        "The first few cells contain code to set-up the assignment and bring in some data.   In order to provide unique datasets for analysis by different students, you must enter your candidate number in the following cell.  Otherwise do not change the code in these cells."
      ]
    },
    {
      "cell_type": "code",
      "execution_count": null,
      "metadata": {
        "id": "1gXQAZas-l9c"
      },
      "outputs": [],
      "source": [
        "candidateno=260823 #this MUST be updated to your candidate number so that you get a unique data sample\n"
      ]
    },
    {
      "cell_type": "code",
      "execution_count": null,
      "metadata": {
        "id": "nk8JTP88A8vs",
        "colab": {
          "base_uri": "https://localhost:8080/"
        },
        "outputId": "60984b22-9555-4ad0-f03c-d939b145b8e3"
      },
      "outputs": [
        {
          "output_type": "stream",
          "name": "stderr",
          "text": [
            "[nltk_data] Downloading package punkt to /root/nltk_data...\n",
            "[nltk_data]   Package punkt is already up-to-date!\n",
            "[nltk_data] Downloading package stopwords to /root/nltk_data...\n",
            "[nltk_data]   Package stopwords is already up-to-date!\n",
            "[nltk_data] Downloading package movie_reviews to /root/nltk_data...\n",
            "[nltk_data]   Package movie_reviews is already up-to-date!\n"
          ]
        }
      ],
      "source": [
        "#do not change the code in this cell\n",
        "#preliminary imports\n",
        "\n",
        "#set up nltk\n",
        "import nltk\n",
        "nltk.download('punkt')\n",
        "nltk.download('stopwords')\n",
        "nltk.download('movie_reviews')\n",
        "from nltk.corpus import stopwords\n",
        "from nltk.tokenize import word_tokenize\n",
        "from nltk.corpus import movie_reviews\n",
        "\n",
        "#for setting up training and testing data\n",
        "import random\n",
        "\n",
        "#useful other tools\n",
        "import re\n",
        "import pandas as pd\n",
        "import matplotlib.pyplot as plt\n",
        "%matplotlib inline\n",
        "from itertools import zip_longest\n",
        "from nltk.probability import FreqDist\n",
        "from nltk.classify.api import ClassifierI\n"
      ]
    },
    {
      "cell_type": "code",
      "execution_count": null,
      "metadata": {
        "id": "BHBkzAccCVaZ"
      },
      "outputs": [],
      "source": [
        "#do not change the code in this cell\n",
        "def split_data(data, ratio=0.7): # when the second argument is not given, it defaults to 0.7\n",
        "    \"\"\"\n",
        "    Given corpus generator and ratio:\n",
        "     - partitions the corpus into training data and test data, where the proportion in train is ratio,\n",
        "\n",
        "    :param data: A corpus generator.\n",
        "    :param ratio: The proportion of training documents (default 0.7)\n",
        "    :return: a pair (tuple) of lists where the first element of the\n",
        "            pair is a list of the training data and the second is a list of the test data.\n",
        "    \"\"\"\n",
        "\n",
        "    data = list(data)\n",
        "    n = len(data)\n",
        "    train_indices = random.sample(range(n), int(n * ratio))\n",
        "    test_indices = list(set(range(n)) - set(train_indices))\n",
        "    train = [data[i] for i in train_indices]\n",
        "    test = [data[i] for i in test_indices]\n",
        "    return (train, test)\n",
        "\n",
        "\n",
        "def get_train_test_data():\n",
        "\n",
        "    #get ids of positive and negative movie reviews\n",
        "    pos_review_ids=movie_reviews.fileids('pos')\n",
        "    neg_review_ids=movie_reviews.fileids('neg')\n",
        "\n",
        "    #split positive and negative data into training and testing sets\n",
        "    pos_train_ids, pos_test_ids = split_data(pos_review_ids)\n",
        "    neg_train_ids, neg_test_ids = split_data(neg_review_ids)\n",
        "    #add labels to the data and concatenate\n",
        "    training = [(movie_reviews.words(f),'pos') for f in pos_train_ids]+[(movie_reviews.words(f),'neg') for f in neg_train_ids]\n",
        "    testing = [(movie_reviews.words(f),'pos') for f in pos_test_ids]+[(movie_reviews.words(f),'neg') for f in neg_test_ids]\n",
        "\n",
        "    return training, testing"
      ]
    },
    {
      "cell_type": "markdown",
      "metadata": {
        "id": "1N3LWwBYICPP"
      },
      "source": [
        "When you have run the cell below, your unique training and testing samples will be stored in `training_data` and `testing_data`"
      ]
    },
    {
      "cell_type": "code",
      "execution_count": null,
      "metadata": {
        "id": "HJLegkdPFUJA",
        "colab": {
          "base_uri": "https://localhost:8080/"
        },
        "outputId": "8b83ad3e-6684-460c-89bb-94547268e187"
      },
      "outputs": [
        {
          "output_type": "stream",
          "name": "stdout",
          "text": [
            "The amount of training data is 1400\n",
            "The amount of testing data is 600\n",
            "The representation of a single data item is below\n",
            "(['in', '1998', ',', 'director', 'brett', 'ratner', ...], 'pos')\n"
          ]
        }
      ],
      "source": [
        "#do not change the code in this cell\n",
        "random.seed(candidateno)\n",
        "training_data,testing_data=get_train_test_data()\n",
        "print(\"The amount of training data is {}\".format(len(training_data)))\n",
        "print(\"The amount of testing data is {}\".format(len(testing_data)))\n",
        "print(\"The representation of a single data item is below\")\n",
        "print(training_data[0])"
      ]
    },
    {
      "cell_type": "code",
      "source": [
        "training_data[32:35]"
      ],
      "metadata": {
        "colab": {
          "base_uri": "https://localhost:8080/"
        },
        "id": "kDfp1QPQ_rxB",
        "outputId": "910e9bc6-0443-44fd-b439-50a6b8432c32"
      },
      "execution_count": null,
      "outputs": [
        {
          "output_type": "execute_result",
          "data": {
            "text/plain": [
              "[(['kadosh', 'means', 'sacred', 'in', 'hebrew', '.', ...], 'pos'),\n",
              " (['note', ':', 'some', 'may', 'consider', 'portions', ...], 'pos'),\n",
              " (['capsule', ':', 'the', 'verma', 'family', 'is', ...], 'pos')]"
            ]
          },
          "metadata": {},
          "execution_count": 44
        }
      ]
    },
    {
      "cell_type": "code",
      "source": [
        "testing_data[0]"
      ],
      "metadata": {
        "colab": {
          "base_uri": "https://localhost:8080/"
        },
        "id": "ZMEONhVcdMzc",
        "outputId": "0ac1eacd-f5d1-4f51-a37f-94b984c35308"
      },
      "execution_count": null,
      "outputs": [
        {
          "output_type": "execute_result",
          "data": {
            "text/plain": [
              "(['krippendorf', \"'\", 's', 'tribe', 'is', 'a', ...], 'pos')"
            ]
          },
          "metadata": {},
          "execution_count": 45
        }
      ]
    },
    {
      "cell_type": "code",
      "source": [
        "testing_wordlist,label= zip(*testing_data)"
      ],
      "metadata": {
        "id": "8suFy98qxy_O"
      },
      "execution_count": null,
      "outputs": []
    },
    {
      "cell_type": "markdown",
      "metadata": {
        "id": "RbTq6eGv2XT2"
      },
      "source": [
        "1)  \n",
        "a) **Generate** a list of 10 content words which are representative of the positive reviews in your training data.\n",
        "\n",
        "b) **Generate** a list of 10 content words which are representative of the negative reviews in your training data.\n",
        "\n",
        "c) **Explain** what you have done and why\n",
        "\n",
        "[20\\%]"
      ]
    },
    {
      "cell_type": "code",
      "source": [
        "testing_basic=[(FreqDist(wordlist),label) for (wordlist,label) in testing_data]\n",
        "testing_basic[0]"
      ],
      "metadata": {
        "colab": {
          "base_uri": "https://localhost:8080/"
        },
        "id": "6gLnD2aSxtAx",
        "outputId": "6b2dc9f7-8489-4fff-c8d1-ac4a131cbafe"
      },
      "execution_count": null,
      "outputs": [
        {
          "output_type": "execute_result",
          "data": {
            "text/plain": [
              "(FreqDist({',': 29, 'the': 26, '.': 25, 'of': 15, 'his': 13, 'a': 12, 'to': 11, 'is': 9, 'in': 9, 'tribe': 8, ...}),\n",
              " 'pos')"
            ]
          },
          "metadata": {},
          "execution_count": 47
        }
      ]
    },
    {
      "cell_type": "code",
      "execution_count": null,
      "metadata": {
        "id": "gvFu36xZ2XT5"
      },
      "outputs": [],
      "source": [
        "#Removing stopwords from the test and train data\n",
        "stop = stopwords.words('english')\n",
        "def stopwords_removal(alist):\n",
        "   '''\n",
        "   Given a collection of lower-case tokens, the function removes stop words from\n",
        "    the list.\n",
        "   :param alist: A list of words\n",
        "   :return: a list of alphanumeric words without any stopwords and punctuations.\n",
        "   '''\n",
        "   newlist= []\n",
        "   for word in alist:\n",
        "      if word.isalpha() and word not in stop:\n",
        "        filtered_tokens= word\n",
        "        newlist.append(filtered_tokens)\n",
        "   return newlist"
      ]
    },
    {
      "cell_type": "code",
      "source": [
        "def normalized_fq(alist):\n",
        "  '''\n",
        "  Given a list of words and their corresponding labels, the function removes\n",
        "    stopwords from the bag of words and finds the frequency distribution of each type in a review.\n",
        "\n",
        "  :param alist: A list of a pair of tuples. The first part of the tuple is a list of words,\n",
        "    the second part of the tuple is the review class that the list belongs to.\n",
        "  :return: A list of a pair of tuples. The first part is a list of frequency distribution of types,\n",
        "    and second part is the corresponding class of the list.\n",
        "  '''\n",
        "  alist_norm= []\n",
        "\n",
        "  for i in range(len(alist)):\n",
        "    label= alist[i][1]\n",
        "    fq= FreqDist(stopwords_removal(alist[i][0]))\n",
        "    alist_norm.append((fq, label))\n",
        "  return alist_norm\n",
        "\n",
        "training_norm= normalized_fq(training_data)\n",
        "testing_norm= normalized_fq(testing_data)"
      ],
      "metadata": {
        "id": "H732QbQU8_SB"
      },
      "execution_count": null,
      "outputs": []
    },
    {
      "cell_type": "code",
      "source": [
        "training_norm[34]"
      ],
      "metadata": {
        "colab": {
          "base_uri": "https://localhost:8080/"
        },
        "id": "lP-eG0oupMYT",
        "outputId": "bd03aad2-3045-48ac-8540-28eff4dccaad"
      },
      "execution_count": null,
      "outputs": [
        {
          "output_type": "execute_result",
          "data": {
            "text/plain": [
              "(FreqDist({'family': 13, 'indian': 7, 'wedding': 4, 'film': 4, 'films': 4, 'like': 4, 'mira': 3, 'nair': 3, 'us': 3, 'together': 3, ...}),\n",
              " 'pos')"
            ]
          },
          "metadata": {},
          "execution_count": 50
        }
      ]
    },
    {
      "cell_type": "code",
      "source": [
        "testing_norm[20]"
      ],
      "metadata": {
        "colab": {
          "base_uri": "https://localhost:8080/"
        },
        "id": "awxFt9ORp576",
        "outputId": "3a7334a8-283a-41af-af3f-acd3682c2f4b"
      },
      "execution_count": null,
      "outputs": [
        {
          "output_type": "execute_result",
          "data": {
            "text/plain": [
              "(FreqDist({'impact': 6, 'film': 5, 'deep': 5, 'disaster': 5, 'news': 4, 'even': 3, 'snicker': 3, 'comet': 3, 'characters': 3, 'personal': 3, ...}),\n",
              " 'pos')"
            ]
          },
          "metadata": {},
          "execution_count": 51
        }
      ]
    },
    {
      "cell_type": "code",
      "source": [
        "def list_generation(alist):\n",
        "\n",
        "  '''\n",
        "  Generates a list of frequency distributions for the positive and negative classes,\n",
        "\n",
        "  param: alist: A list of a pair of tuples. The first part is a list of frequency distribution of types,\n",
        "    and second part is the corresponding class of the list.\n",
        "\n",
        "  return: A pair of tuples, The first part represents the frequency distribution of words in the positive class,\n",
        "    the second part is the frequency distribution of words in the negative class\n",
        "  '''\n",
        "\n",
        "  class1_fq= []\n",
        "  class2_fq= []\n",
        "\n",
        "  for words,label in alist:\n",
        "    if label=='pos':\n",
        "        class1_fq+=words\n",
        "        class1_fq= FreqDist(class1_fq)             # adds a word into the empty list, then finds its frequency distribution\n",
        "    else:\n",
        "        class2_fq+=words\n",
        "        class2_fq= FreqDist(class2_fq)\n",
        "\n",
        "  return (class1_fq, class2_fq)\n",
        "\n",
        "posWordlist= list_generation(training_norm)[0]\n",
        "negWordlist= list_generation(training_norm)[1]\n",
        "posWordlist"
      ],
      "metadata": {
        "id": "44PAmJon-ILZ",
        "colab": {
          "base_uri": "https://localhost:8080/"
        },
        "outputId": "4b7be6c6-3b88-4db5-d704-b561f5d48fe9"
      },
      "execution_count": null,
      "outputs": [
        {
          "output_type": "execute_result",
          "data": {
            "text/plain": [
              "FreqDist({'film': 3658, 'one': 2150, 'movie': 1752, 'like': 1295, 'good': 903, 'story': 875, 'even': 851, 'time': 844, 'also': 815, 'well': 808, ...})"
            ]
          },
          "metadata": {},
          "execution_count": 52
        }
      ]
    },
    {
      "cell_type": "code",
      "source": [
        "negWordlist"
      ],
      "metadata": {
        "colab": {
          "base_uri": "https://localhost:8080/"
        },
        "id": "wZGut4gTp_YS",
        "outputId": "deca34ac-d0a6-4e06-afe8-622d0745b9ce"
      },
      "execution_count": null,
      "outputs": [
        {
          "output_type": "execute_result",
          "data": {
            "text/plain": [
              "FreqDist({'film': 3093, 'movie': 2300, 'one': 1971, 'like': 1328, 'even': 968, 'good': 833, 'time': 828, 'would': 762, 'bad': 758, 'get': 744, ...})"
            ]
          },
          "metadata": {},
          "execution_count": 53
        }
      ]
    },
    {
      "cell_type": "code",
      "source": [
        "def most_frequent_words(fq1,fq2, k=10):\n",
        "    '''\n",
        "    Given two frequency distributions and a number, the function finds the words that appear more in fq1 than fq2.\n",
        "    and returns the top k words with the highest difference\n",
        "    :params fq1 and fq2: Frequency distributions of types\n",
        "    :param k: A number\n",
        "\n",
        "    :return: a list of k words that appear the most in fq1 than fq2\n",
        "    '''\n",
        "    difference=fq1-fq2\n",
        "    diff=difference.most_common(k)\n",
        "    fq1_topk= [diff[i][0] for i in range(len(diff))]\n",
        "    return fq1_topk"
      ],
      "metadata": {
        "id": "dwN0JvjeD9wJ"
      },
      "execution_count": null,
      "outputs": []
    },
    {
      "cell_type": "code",
      "source": [
        "#Generating 10 most frequent positive wordlist\n",
        "positive_wordlist=most_frequent_words(posWordlist,negWordlist)\n",
        "print(positive_wordlist)\n"
      ],
      "metadata": {
        "id": "hlIAWiqxIYTl",
        "colab": {
          "base_uri": "https://localhost:8080/"
        },
        "outputId": "1267809f-a70e-4cb0-9385-12d2fc0893b0"
      },
      "execution_count": null,
      "outputs": [
        {
          "output_type": "stream",
          "name": "stdout",
          "text": [
            "['film', 'life', 'also', 'best', 'well', 'great', 'world', 'story', 'films', 'one']\n"
          ]
        }
      ]
    },
    {
      "cell_type": "code",
      "source": [
        "#Generating 10 most frequent negative wordlist\n",
        "negative_wordlist=most_frequent_words(negWordlist, posWordlist)\n",
        "print(negative_wordlist)\n"
      ],
      "metadata": {
        "id": "rNgkgXUiIqvw",
        "colab": {
          "base_uri": "https://localhost:8080/"
        },
        "outputId": "3abce09d-4d31-44bc-b9fc-7e51a97872a5"
      },
      "execution_count": null,
      "outputs": [
        {
          "output_type": "stream",
          "name": "stdout",
          "text": [
            "['movie', 'bad', 'plot', 'worst', 'nothing', 'supposed', 'get', 'script', 'even', 'stupid']\n"
          ]
        }
      ]
    },
    {
      "cell_type": "markdown",
      "source": [
        "**How to Generate Content Words that are Representatives of The Positive and Negative Reviews**"
      ],
      "metadata": {
        "id": "n_V2qevCSeu7"
      }
    },
    {
      "cell_type": "markdown",
      "metadata": {
        "id": "JauTzY5N2XUB"
      },
      "source": [
        "**Training and Testing Data Normalisation**\n",
        "\n",
        "Generating automatic lists from the data requires a preprocessing of the document. Removing stop-words and punctuation marks from the training and testing data is a good preprocessing option, because it removes the non-informative words that do not express any sentiment from the data. Doing this pre-processing step drastically reduces the size of the training and testing data, and made them more effective and efficient to work with. Using the stopwords_removal function helped achieve this normalisation process.\n",
        "\n",
        "*The stopwords_removal Function*\n",
        "\n",
        "Purpose- Given a list of lower-case tokens, the function removes stop words from the list.\n",
        "Parameter- alist: A list of a pair of tuples consisting of a list of tokens, and their corresponding label (positive or negative).\n",
        "Return- A list of tuples. The first part of the tuple is a list of alphanumeric tokens without any stopwords and punctuations. The second part is the corresponding label of the list of tokens.\n",
        "\n",
        "**Counting Types in Each Review**\n",
        "\n",
        "The second step of generating the lists involves finding the frequency of word types in each review of the normalized testing and training data. Applying the Frequency Distribution method on the normalized training and testing lists produces a dictionary of types as keys, and their frequency of occurrence as values. By finding the frequency of each type, it will be easier to know the most relevant words in each review.\n",
        "\n",
        "*The normalized_fq Function*\n",
        "\n",
        "Purpose- Given a list of a pair of words and their corresponding labels, the function calls the stopwords_removal function (which removes punctuations and stop words from the data) and then finds the frequency distribution of each word type.\n",
        "Parameter- alist: A list of a pair of tuples. The first part of the tuple is a list of tokens, the second part of the tuple is the label class that the list belongs to.\n",
        "Return-  A list of a pair of tuples. The first part is a list of frequency distribution of word types, and second part is the corresponding class of the list.\n",
        "\n",
        "**Generating Lists of Positive and Negative Words**\n",
        "\n",
        "After finding the frequency of types in the training and testing data, the next step is to create two frequency distributions. One frequency distribution is of words that occur in positive reviews, the other is of words in negative reviews. By producing a frequency distribution of types in the two classes, we will be able to know the words which express the most sentiment.\n",
        "\n",
        "*The list_generation Function*\n",
        "\n",
        "Purpose- Generates a list of frequency distributions of types for the positive and negative classes.\n",
        "\n",
        "Parameter- alist: A list of a pair of tuples. The first part is a list of frequency distribution of types in a review, and second part is the corresponding class of the list.\n",
        "\n",
        "Return: A pair of tuples, The first part represents the frequency distribution of words in the positive class, the second part is the frequency distribution of words in the negative class.\n",
        "\n",
        "*The most_frequent_words Function*\n",
        "\n",
        "Purpose- Given two frequency distributions and an integer, the function finds the words that appear more in one frequency distribution than the other. And return a list of words of the length of the integer.\n",
        "\n",
        "Parameters- fq1, fq2: These are frequency distributions of types in the positive and negative class\n",
        "\n",
        "Parameter- k: An integer\n",
        "Return- A list of words that appear the most in fq1 than fq2. The list has a length equal to the integer specified in the key arguments.\n"
      ]
    },
    {
      "cell_type": "markdown",
      "metadata": {
        "id": "TApOQE6vND20"
      },
      "source": [
        "2)\n",
        "a) **Use** the lists generated in Q1 to build a **word list classifier** which will classify reviews as being positive or negative.\n",
        "\n",
        "b) **Explain** what you have done.\n",
        "\n",
        "[12.5\\%]\n"
      ]
    },
    {
      "cell_type": "code",
      "execution_count": null,
      "metadata": {
        "id": "BThDMrcmODJy",
        "colab": {
          "base_uri": "https://localhost:8080/",
          "height": 36
        },
        "outputId": "be21f08b-ccbe-4f94-b941-f07f3fab5828"
      },
      "outputs": [
        {
          "output_type": "execute_result",
          "data": {
            "text/plain": [
              "'neg'"
            ],
            "application/vnd.google.colaboratory.intrinsic+json": {
              "type": "string"
            }
          },
          "metadata": {},
          "execution_count": 57
        }
      ],
      "source": [
        "class WLClassifier(ClassifierI):\n",
        "\n",
        "  '''\n",
        "  The functions in this class are used to classify reviews.\n",
        "  '''\n",
        "\n",
        "  def __init__(self, pos, neg):\n",
        "      '''\n",
        "      This function take 2 lists of words. One list represents words that occur frequently in positive reviews,\n",
        "      and the other list represents the most frequent words in negative reviews.\n",
        "      These two lists are necessary for the classifier to work.\n",
        "      '''\n",
        "      self._pos = pos\n",
        "      self._neg = neg\n",
        "\n",
        "  def labels(self):\n",
        "      return (\"pos\", \"neg\")\n",
        "\n",
        "  def scoring(self, review):\n",
        "      '''\n",
        "      This function assigns a score to a single review. It adds word frequency to the score variable if a word in a review exists in the positive words list,\n",
        "      and reduces the score by the word frequency if the word exists in the negative words list.\n",
        "\n",
        "      :params: self: This refers to the two lists positive and negative of words generated in question 1.\n",
        "      :param: words: This is a frequency distribution of words\n",
        "\n",
        "      Return: The function returns the total score of the review.\n",
        "      '''\n",
        "      score = 0\n",
        "      for word,count in review.items():\n",
        "        if word in self._pos:\n",
        "          score+=count\n",
        "        if word in self._neg:\n",
        "          score-=count\n",
        "      return score\n",
        "\n",
        "  def score_many(self, reviews):\n",
        "        '''\n",
        "        This function assigns scores to each review in a list of multiple reviews.\n",
        "\n",
        "        params: reviews: These are a list of frequency distributions of multiple reviews.\n",
        "        return: A list of scores of each review.\n",
        "        '''\n",
        "\n",
        "        return [self.scoring(review) for review in reviews]\n",
        "\n",
        "\n",
        "  def classify(self, score):\n",
        "\n",
        "      '''\n",
        "      This function assigns each review to a class based on the score obtained from the self.scoring(review) function.\n",
        "      Reviews with negative scores get labelled as negative (neg), reviews with positive scores get the\n",
        "      positive label (pos), while reviews with scores equal to zero get a random label from the self.labels() function.\n",
        "      '''\n",
        "      if score < 0:\n",
        "        theclass= 'neg'\n",
        "      if score > 0:\n",
        "        theclass= \"pos\"\n",
        "      if score == 0:\n",
        "        theclass= random.choice(self.labels())\n",
        "      return theclass\n",
        "\n",
        "  def classify_many(self, scores):\n",
        "        '''\n",
        "        This function classifies the score of each review in a list of reviews. These scores are obtained from the score_many function.\n",
        "\n",
        "        params: scores: A list of scores of reviews.\n",
        "        return: A list of classes (neg or pos) for each score in the list of scores.\n",
        "        '''\n",
        "\n",
        "        return [self.classify(score) for score in scores]\n",
        "\n",
        "WLclassifier = WLClassifier(positive_wordlist, negative_wordlist)\n",
        "score= WLclassifier.scoring(FreqDist(stopwords_removal(\"the movie was bad\".split())))\n",
        "WLclassifier.classify(score)"
      ]
    },
    {
      "cell_type": "code",
      "source": [
        "class MFW_Classifier(WLClassifier):\n",
        "\n",
        "    def __init__(self, k):\n",
        "        self._k=k\n",
        "\n",
        "    def train(self,training_data):\n",
        "      '''\n",
        "      This function takes the labels and frequency distribution of words from each review of the training data.\n",
        "      It divides the words into positive and negative lists, finds the frequencies of each word type, and then calls the most_frequent_words\n",
        "      method from the WLClassifier to return two lists (negative and positive wordlists) with a maximum number of k words.\n",
        "\n",
        "      '''\n",
        "      posclass_fq= []\n",
        "      negclass_fq= []\n",
        "      for words,label in training_data:\n",
        "        if label=='pos':\n",
        "            posclass_fq+=words\n",
        "            posclass_fq= FreqDist(posclass_fq)             # adds a word into the empty list, then finds its frequency distribution\n",
        "        else:\n",
        "            negclass_fq+=words\n",
        "            negclass_fq= FreqDist(negclass_fq)\n",
        "\n",
        "      #return (posclass_fq, negclass_fq)\n",
        "\n",
        "      self._pos=most_frequent_words(posclass_fq,negclass_fq)\n",
        "      self._neg=most_frequent_words(negclass_fq,posclass_fq)\n",
        "\n",
        ""
      ],
      "metadata": {
        "id": "xEPSd31rmTBY"
      },
      "execution_count": null,
      "outputs": []
    },
    {
      "cell_type": "markdown",
      "metadata": {
        "id": "C6vK5Vyz2XUF"
      },
      "source": [
        "**How to Classify a Review Using the Word List Classifier**\n",
        "\n",
        "The word list classifier is an example of binary classification because classifies reviews as either positive or negative. When given a review, or a list of reviews, the WLClassifier takes the positive and negative word lists generated from question 1, and then uses the scoring and classify functions to determine whether each review is negative or positive.\n",
        "\n",
        "*The scoring and score_many functions*\n",
        "\n",
        "Purpose- The scoring function assigns a score to a single review. The score_many function takes a list of reviews, and calls the scoring function to assign a score to each review in the list. self.scoring(review) adds a word's frequency to the score variable if a word exists in the positive words list. It also reduces the score by the word frequency if the word exists in the negative words list.\n",
        "       \n",
        "Parameters- self: This refers to the two lists of positive and negative of words generated in question 1.\n",
        "Parameter- words: This is a frequency distribution of words in a single review.\n",
        "Return: The function returns the total score of the review.\n",
        "\n",
        "*The classify and classify_many functions*\n",
        "\n",
        "Purpose: The classify function assigns a class to each score obtained from the scoring function. The classify_many function takes the list of scores from the score_many function, calls the classify function and classifies each score in the list of scores. Reviews with negative scores get labelled as negative (neg), reviews with positive scores get the positive label (pos), while reviews with scores equal to zero get a random label (positive or negative)."
      ]
    },
    {
      "cell_type": "markdown",
      "metadata": {
        "id": "YZdDO_Y92XUH"
      },
      "source": [
        "3)\n",
        "a) **Calculate** the accuracy, precision, recall and F1 score of your classifier.\n",
        "\n",
        "b) Is it reasonable to evaluate the classifier in terms of its accuracy?  **Explain** your answer and give a counter-example (a scenario where it would / would not be reasonable to evaluate the classifier in terms of its accuracy).\n",
        "\n",
        "[20\\%]"
      ]
    },
    {
      "cell_type": "code",
      "source": [
        "class ConfusionMatrix:\n",
        "\n",
        "    '''\n",
        "    Using the wordlist classifiers, this class takes the reviews classified as true positives,\n",
        "    false positives, true negatives, and false negatives.\n",
        "    It makes it possible to calculate the four evaluation metrics\n",
        "    '''\n",
        "\n",
        "\n",
        "    def __init__(self,predictions,goldstandard,classes=(\"pos\",\"neg\")):\n",
        "\n",
        "        (self.c1,self.c2)=classes\n",
        "        self.TP=0\n",
        "        self.FP=0\n",
        "        self.FN=0\n",
        "        self.TN=0\n",
        "        for p,g in zip(predictions,goldstandard):\n",
        "            if g==self.c1:\n",
        "                if p==self.c1:\n",
        "                    self.TP+=1\n",
        "                else:\n",
        "                    self.FN+=1\n",
        "\n",
        "            elif p==self.c1:\n",
        "                self.FP+=1\n",
        "            else:\n",
        "                self.TN+=1\n",
        "\n",
        "    def accuracy(self):\n",
        "      a= 0\n",
        "      N= self.TP + self.FP + self.FN + self.TN\n",
        "      a= (self.TP + self.TN)/N\n",
        "      return a\n",
        "\n",
        "    def precision(self):\n",
        "        p=0\n",
        "        p = self.TP/ (self.TP+ self.FP)\n",
        "        return p\n",
        "\n",
        "    def recall(self):\n",
        "        r=0\n",
        "        r = self.TP/ (self.TP+ self.FN)\n",
        "        return r\n",
        "\n",
        "    def f1(self):\n",
        "        f1=0\n",
        "        f1= (2 * self.precision() * self.recall())/ (self.precision() + self.recall())\n",
        "\n",
        "        return f1"
      ],
      "metadata": {
        "id": "42rIRb1JYjFL"
      },
      "execution_count": null,
      "outputs": []
    },
    {
      "cell_type": "code",
      "source": [
        "#Training the data\n",
        "reviewClassifier= MFW_Classifier(10)\n",
        "reviewClassifier.train(training_norm)"
      ],
      "metadata": {
        "id": "3ftMMU6umqsD"
      },
      "execution_count": null,
      "outputs": []
    },
    {
      "cell_type": "code",
      "execution_count": null,
      "metadata": {
        "id": "VbYwwhcs2XUL"
      },
      "outputs": [],
      "source": [
        "#Classifying the test data\n",
        "reviews,goldstandard=zip(*testing_basic)\n",
        "reviews_scores= reviewClassifier.score_many(reviews)\n",
        "wordlist_predictions=reviewClassifier.classify_many(reviews_scores)"
      ]
    },
    {
      "cell_type": "code",
      "source": [
        "#Evaluating the classifier\n",
        "wordlist_matrix= ConfusionMatrix(wordlist_predictions,goldstandard)\n",
        "WLClassifier_Performance= {'Accuracy': wordlist_matrix.accuracy(), 'Precision': wordlist_matrix.precision(),\n",
        "                           'Recall': wordlist_matrix.recall(),\n",
        "                           'F1': wordlist_matrix.f1()}\n",
        "wordlist_evaluation = pd.DataFrame(WLClassifier_Performance, index= ['Word List Classifier'])\n",
        "wordlist_evaluation\n"
      ],
      "metadata": {
        "colab": {
          "base_uri": "https://localhost:8080/",
          "height": 81
        },
        "id": "FCaDrAAUgkdp",
        "outputId": "1e34526f-7957-4765-ae59-955ea351f3bb"
      },
      "execution_count": null,
      "outputs": [
        {
          "output_type": "execute_result",
          "data": {
            "text/plain": [
              "                      Accuracy  Precision    Recall       F1\n",
              "Word List Classifier      0.61   0.573009  0.863333  0.68883"
            ],
            "text/html": [
              "\n",
              "  <div id=\"df-a3c834f0-27c1-4fbc-af54-0c51fcab7918\">\n",
              "    <div class=\"colab-df-container\">\n",
              "      <div>\n",
              "<style scoped>\n",
              "    .dataframe tbody tr th:only-of-type {\n",
              "        vertical-align: middle;\n",
              "    }\n",
              "\n",
              "    .dataframe tbody tr th {\n",
              "        vertical-align: top;\n",
              "    }\n",
              "\n",
              "    .dataframe thead th {\n",
              "        text-align: right;\n",
              "    }\n",
              "</style>\n",
              "<table border=\"1\" class=\"dataframe\">\n",
              "  <thead>\n",
              "    <tr style=\"text-align: right;\">\n",
              "      <th></th>\n",
              "      <th>Accuracy</th>\n",
              "      <th>Precision</th>\n",
              "      <th>Recall</th>\n",
              "      <th>F1</th>\n",
              "    </tr>\n",
              "  </thead>\n",
              "  <tbody>\n",
              "    <tr>\n",
              "      <th>Word List Classifier</th>\n",
              "      <td>0.61</td>\n",
              "      <td>0.573009</td>\n",
              "      <td>0.863333</td>\n",
              "      <td>0.68883</td>\n",
              "    </tr>\n",
              "  </tbody>\n",
              "</table>\n",
              "</div>\n",
              "      <button class=\"colab-df-convert\" onclick=\"convertToInteractive('df-a3c834f0-27c1-4fbc-af54-0c51fcab7918')\"\n",
              "              title=\"Convert this dataframe to an interactive table.\"\n",
              "              style=\"display:none;\">\n",
              "        \n",
              "  <svg xmlns=\"http://www.w3.org/2000/svg\" height=\"24px\"viewBox=\"0 0 24 24\"\n",
              "       width=\"24px\">\n",
              "    <path d=\"M0 0h24v24H0V0z\" fill=\"none\"/>\n",
              "    <path d=\"M18.56 5.44l.94 2.06.94-2.06 2.06-.94-2.06-.94-.94-2.06-.94 2.06-2.06.94zm-11 1L8.5 8.5l.94-2.06 2.06-.94-2.06-.94L8.5 2.5l-.94 2.06-2.06.94zm10 10l.94 2.06.94-2.06 2.06-.94-2.06-.94-.94-2.06-.94 2.06-2.06.94z\"/><path d=\"M17.41 7.96l-1.37-1.37c-.4-.4-.92-.59-1.43-.59-.52 0-1.04.2-1.43.59L10.3 9.45l-7.72 7.72c-.78.78-.78 2.05 0 2.83L4 21.41c.39.39.9.59 1.41.59.51 0 1.02-.2 1.41-.59l7.78-7.78 2.81-2.81c.8-.78.8-2.07 0-2.86zM5.41 20L4 18.59l7.72-7.72 1.47 1.35L5.41 20z\"/>\n",
              "  </svg>\n",
              "      </button>\n",
              "      \n",
              "  <style>\n",
              "    .colab-df-container {\n",
              "      display:flex;\n",
              "      flex-wrap:wrap;\n",
              "      gap: 12px;\n",
              "    }\n",
              "\n",
              "    .colab-df-convert {\n",
              "      background-color: #E8F0FE;\n",
              "      border: none;\n",
              "      border-radius: 50%;\n",
              "      cursor: pointer;\n",
              "      display: none;\n",
              "      fill: #1967D2;\n",
              "      height: 32px;\n",
              "      padding: 0 0 0 0;\n",
              "      width: 32px;\n",
              "    }\n",
              "\n",
              "    .colab-df-convert:hover {\n",
              "      background-color: #E2EBFA;\n",
              "      box-shadow: 0px 1px 2px rgba(60, 64, 67, 0.3), 0px 1px 3px 1px rgba(60, 64, 67, 0.15);\n",
              "      fill: #174EA6;\n",
              "    }\n",
              "\n",
              "    [theme=dark] .colab-df-convert {\n",
              "      background-color: #3B4455;\n",
              "      fill: #D2E3FC;\n",
              "    }\n",
              "\n",
              "    [theme=dark] .colab-df-convert:hover {\n",
              "      background-color: #434B5C;\n",
              "      box-shadow: 0px 1px 3px 1px rgba(0, 0, 0, 0.15);\n",
              "      filter: drop-shadow(0px 1px 2px rgba(0, 0, 0, 0.3));\n",
              "      fill: #FFFFFF;\n",
              "    }\n",
              "  </style>\n",
              "\n",
              "      <script>\n",
              "        const buttonEl =\n",
              "          document.querySelector('#df-a3c834f0-27c1-4fbc-af54-0c51fcab7918 button.colab-df-convert');\n",
              "        buttonEl.style.display =\n",
              "          google.colab.kernel.accessAllowed ? 'block' : 'none';\n",
              "\n",
              "        async function convertToInteractive(key) {\n",
              "          const element = document.querySelector('#df-a3c834f0-27c1-4fbc-af54-0c51fcab7918');\n",
              "          const dataTable =\n",
              "            await google.colab.kernel.invokeFunction('convertToInteractive',\n",
              "                                                     [key], {});\n",
              "          if (!dataTable) return;\n",
              "\n",
              "          const docLinkHtml = 'Like what you see? Visit the ' +\n",
              "            '<a target=\"_blank\" href=https://colab.research.google.com/notebooks/data_table.ipynb>data table notebook</a>'\n",
              "            + ' to learn more about interactive tables.';\n",
              "          element.innerHTML = '';\n",
              "          dataTable['output_type'] = 'display_data';\n",
              "          await google.colab.output.renderOutput(dataTable, element);\n",
              "          const docLink = document.createElement('div');\n",
              "          docLink.innerHTML = docLinkHtml;\n",
              "          element.appendChild(docLink);\n",
              "        }\n",
              "      </script>\n",
              "    </div>\n",
              "  </div>\n",
              "  "
            ]
          },
          "metadata": {},
          "execution_count": 62
        }
      ]
    },
    {
      "cell_type": "markdown",
      "metadata": {
        "id": "AVZp0N5J2XUL"
      },
      "source": [
        "Evaluating a classifier based on its accuracy is misleading in cases when the the classes are imbalanced. For example, if the training data had more positive reviews than negative reviews, the classifier would guess that most of the reviews in the testing data are also positive. It would, therefore, incorrectly predict the number of negative reviews in the data. In this case of imbalanced classes, it would be reasonable to use the classifier to only predict positive reviews.\n",
        "\n",
        "Another technique that would help make accuracy a reliable evaluation method involves randomly resampling the training and testing data a number of times (e.g. 3 times). We would then use these three training samples to create the classifier. Next would be to get three different accuracies using the three testing samples and calculate their average. The average will be more reliable in making decisions on whether the classifier is helpful in making predictions."
      ]
    },
    {
      "cell_type": "markdown",
      "metadata": {
        "id": "LIS9UpmJNEAp"
      },
      "source": [
        "4)\n",
        "a)  **Construct** a Naive Bayes classifier (e.g., from NLTK).\n",
        "\n",
        "b)  **Compare** the performance of your word list classifier with the Naive Bayes classifier.  **Discuss** your results.\n",
        "\n",
        "[12.5\\%]"
      ]
    },
    {
      "cell_type": "code",
      "execution_count": null,
      "metadata": {
        "id": "Gwjig-Y12XUN"
      },
      "outputs": [],
      "source": [
        "#NLTK Naive Bayes Classifier\n",
        "from nltk.classify import NaiveBayesClassifier\n",
        "naivebayes_classifier=NaiveBayesClassifier.train(training_norm)"
      ]
    },
    {
      "cell_type": "code",
      "source": [
        "#Classyfying the test data and evaluating the classifier\n",
        "naivebayes_predictions= naivebayes_classifier.classify_many(reviews)\n",
        "naivebayes_matrix= ConfusionMatrix(naivebayes_predictions,goldstandard)\n",
        "naivebayesClassifier_Performance= {'Accuracy': naivebayes_matrix.accuracy(), 'Precision': naivebayes_matrix.precision(),\n",
        "                                   'Recall': naivebayes_matrix.recall(), 'F1': naivebayes_matrix.f1()}\n",
        "naivebayes_evaluation = pd.DataFrame(naivebayesClassifier_Performance, index= ['Naive Bayes Classifier'])\n",
        "naivebayes_evaluation\n"
      ],
      "metadata": {
        "colab": {
          "base_uri": "https://localhost:8080/",
          "height": 81
        },
        "id": "3BfDo-I4lkDf",
        "outputId": "ac06e1f6-3c9c-42b8-d8f5-5a0832bb5a00"
      },
      "execution_count": null,
      "outputs": [
        {
          "output_type": "execute_result",
          "data": {
            "text/plain": [
              "                        Accuracy  Precision    Recall        F1\n",
              "Naive Bayes Classifier  0.756667   0.681604  0.963333  0.798343"
            ],
            "text/html": [
              "\n",
              "  <div id=\"df-52e84948-ecc2-46f3-9fa1-e7b4ac5c4cb1\">\n",
              "    <div class=\"colab-df-container\">\n",
              "      <div>\n",
              "<style scoped>\n",
              "    .dataframe tbody tr th:only-of-type {\n",
              "        vertical-align: middle;\n",
              "    }\n",
              "\n",
              "    .dataframe tbody tr th {\n",
              "        vertical-align: top;\n",
              "    }\n",
              "\n",
              "    .dataframe thead th {\n",
              "        text-align: right;\n",
              "    }\n",
              "</style>\n",
              "<table border=\"1\" class=\"dataframe\">\n",
              "  <thead>\n",
              "    <tr style=\"text-align: right;\">\n",
              "      <th></th>\n",
              "      <th>Accuracy</th>\n",
              "      <th>Precision</th>\n",
              "      <th>Recall</th>\n",
              "      <th>F1</th>\n",
              "    </tr>\n",
              "  </thead>\n",
              "  <tbody>\n",
              "    <tr>\n",
              "      <th>Naive Bayes Classifier</th>\n",
              "      <td>0.756667</td>\n",
              "      <td>0.681604</td>\n",
              "      <td>0.963333</td>\n",
              "      <td>0.798343</td>\n",
              "    </tr>\n",
              "  </tbody>\n",
              "</table>\n",
              "</div>\n",
              "      <button class=\"colab-df-convert\" onclick=\"convertToInteractive('df-52e84948-ecc2-46f3-9fa1-e7b4ac5c4cb1')\"\n",
              "              title=\"Convert this dataframe to an interactive table.\"\n",
              "              style=\"display:none;\">\n",
              "        \n",
              "  <svg xmlns=\"http://www.w3.org/2000/svg\" height=\"24px\"viewBox=\"0 0 24 24\"\n",
              "       width=\"24px\">\n",
              "    <path d=\"M0 0h24v24H0V0z\" fill=\"none\"/>\n",
              "    <path d=\"M18.56 5.44l.94 2.06.94-2.06 2.06-.94-2.06-.94-.94-2.06-.94 2.06-2.06.94zm-11 1L8.5 8.5l.94-2.06 2.06-.94-2.06-.94L8.5 2.5l-.94 2.06-2.06.94zm10 10l.94 2.06.94-2.06 2.06-.94-2.06-.94-.94-2.06-.94 2.06-2.06.94z\"/><path d=\"M17.41 7.96l-1.37-1.37c-.4-.4-.92-.59-1.43-.59-.52 0-1.04.2-1.43.59L10.3 9.45l-7.72 7.72c-.78.78-.78 2.05 0 2.83L4 21.41c.39.39.9.59 1.41.59.51 0 1.02-.2 1.41-.59l7.78-7.78 2.81-2.81c.8-.78.8-2.07 0-2.86zM5.41 20L4 18.59l7.72-7.72 1.47 1.35L5.41 20z\"/>\n",
              "  </svg>\n",
              "      </button>\n",
              "      \n",
              "  <style>\n",
              "    .colab-df-container {\n",
              "      display:flex;\n",
              "      flex-wrap:wrap;\n",
              "      gap: 12px;\n",
              "    }\n",
              "\n",
              "    .colab-df-convert {\n",
              "      background-color: #E8F0FE;\n",
              "      border: none;\n",
              "      border-radius: 50%;\n",
              "      cursor: pointer;\n",
              "      display: none;\n",
              "      fill: #1967D2;\n",
              "      height: 32px;\n",
              "      padding: 0 0 0 0;\n",
              "      width: 32px;\n",
              "    }\n",
              "\n",
              "    .colab-df-convert:hover {\n",
              "      background-color: #E2EBFA;\n",
              "      box-shadow: 0px 1px 2px rgba(60, 64, 67, 0.3), 0px 1px 3px 1px rgba(60, 64, 67, 0.15);\n",
              "      fill: #174EA6;\n",
              "    }\n",
              "\n",
              "    [theme=dark] .colab-df-convert {\n",
              "      background-color: #3B4455;\n",
              "      fill: #D2E3FC;\n",
              "    }\n",
              "\n",
              "    [theme=dark] .colab-df-convert:hover {\n",
              "      background-color: #434B5C;\n",
              "      box-shadow: 0px 1px 3px 1px rgba(0, 0, 0, 0.15);\n",
              "      filter: drop-shadow(0px 1px 2px rgba(0, 0, 0, 0.3));\n",
              "      fill: #FFFFFF;\n",
              "    }\n",
              "  </style>\n",
              "\n",
              "      <script>\n",
              "        const buttonEl =\n",
              "          document.querySelector('#df-52e84948-ecc2-46f3-9fa1-e7b4ac5c4cb1 button.colab-df-convert');\n",
              "        buttonEl.style.display =\n",
              "          google.colab.kernel.accessAllowed ? 'block' : 'none';\n",
              "\n",
              "        async function convertToInteractive(key) {\n",
              "          const element = document.querySelector('#df-52e84948-ecc2-46f3-9fa1-e7b4ac5c4cb1');\n",
              "          const dataTable =\n",
              "            await google.colab.kernel.invokeFunction('convertToInteractive',\n",
              "                                                     [key], {});\n",
              "          if (!dataTable) return;\n",
              "\n",
              "          const docLinkHtml = 'Like what you see? Visit the ' +\n",
              "            '<a target=\"_blank\" href=https://colab.research.google.com/notebooks/data_table.ipynb>data table notebook</a>'\n",
              "            + ' to learn more about interactive tables.';\n",
              "          element.innerHTML = '';\n",
              "          dataTable['output_type'] = 'display_data';\n",
              "          await google.colab.output.renderOutput(dataTable, element);\n",
              "          const docLink = document.createElement('div');\n",
              "          docLink.innerHTML = docLinkHtml;\n",
              "          element.appendChild(docLink);\n",
              "        }\n",
              "      </script>\n",
              "    </div>\n",
              "  </div>\n",
              "  "
            ]
          },
          "metadata": {},
          "execution_count": 64
        }
      ]
    },
    {
      "cell_type": "code",
      "source": [
        "#Creating a dataframe of the metrics of the two classifiers\n",
        "frames = [naivebayes_evaluation, wordlist_evaluation]\n",
        "classifiers_comparison = pd.concat(frames)\n",
        "\n",
        "classifiers_comparison= classifiers_comparison.transpose()\n",
        "\n",
        "classifiers_comparison.rename(columns= {'index': 'Evaluation'}, inplace= True)\n",
        "\n",
        "classifiers_comparison"
      ],
      "metadata": {
        "colab": {
          "base_uri": "https://localhost:8080/",
          "height": 175
        },
        "id": "h2DpNcyIorkT",
        "outputId": "4c219204-12bc-4d0a-b66e-123433194e31"
      },
      "execution_count": null,
      "outputs": [
        {
          "output_type": "execute_result",
          "data": {
            "text/plain": [
              "           Naive Bayes Classifier  Word List Classifier\n",
              "Accuracy                 0.756667              0.610000\n",
              "Precision                0.681604              0.573009\n",
              "Recall                   0.963333              0.863333\n",
              "F1                       0.798343              0.688830"
            ],
            "text/html": [
              "\n",
              "  <div id=\"df-9cb3c89f-3352-432a-9f98-d61a7fb2e44b\">\n",
              "    <div class=\"colab-df-container\">\n",
              "      <div>\n",
              "<style scoped>\n",
              "    .dataframe tbody tr th:only-of-type {\n",
              "        vertical-align: middle;\n",
              "    }\n",
              "\n",
              "    .dataframe tbody tr th {\n",
              "        vertical-align: top;\n",
              "    }\n",
              "\n",
              "    .dataframe thead th {\n",
              "        text-align: right;\n",
              "    }\n",
              "</style>\n",
              "<table border=\"1\" class=\"dataframe\">\n",
              "  <thead>\n",
              "    <tr style=\"text-align: right;\">\n",
              "      <th></th>\n",
              "      <th>Naive Bayes Classifier</th>\n",
              "      <th>Word List Classifier</th>\n",
              "    </tr>\n",
              "  </thead>\n",
              "  <tbody>\n",
              "    <tr>\n",
              "      <th>Accuracy</th>\n",
              "      <td>0.756667</td>\n",
              "      <td>0.610000</td>\n",
              "    </tr>\n",
              "    <tr>\n",
              "      <th>Precision</th>\n",
              "      <td>0.681604</td>\n",
              "      <td>0.573009</td>\n",
              "    </tr>\n",
              "    <tr>\n",
              "      <th>Recall</th>\n",
              "      <td>0.963333</td>\n",
              "      <td>0.863333</td>\n",
              "    </tr>\n",
              "    <tr>\n",
              "      <th>F1</th>\n",
              "      <td>0.798343</td>\n",
              "      <td>0.688830</td>\n",
              "    </tr>\n",
              "  </tbody>\n",
              "</table>\n",
              "</div>\n",
              "      <button class=\"colab-df-convert\" onclick=\"convertToInteractive('df-9cb3c89f-3352-432a-9f98-d61a7fb2e44b')\"\n",
              "              title=\"Convert this dataframe to an interactive table.\"\n",
              "              style=\"display:none;\">\n",
              "        \n",
              "  <svg xmlns=\"http://www.w3.org/2000/svg\" height=\"24px\"viewBox=\"0 0 24 24\"\n",
              "       width=\"24px\">\n",
              "    <path d=\"M0 0h24v24H0V0z\" fill=\"none\"/>\n",
              "    <path d=\"M18.56 5.44l.94 2.06.94-2.06 2.06-.94-2.06-.94-.94-2.06-.94 2.06-2.06.94zm-11 1L8.5 8.5l.94-2.06 2.06-.94-2.06-.94L8.5 2.5l-.94 2.06-2.06.94zm10 10l.94 2.06.94-2.06 2.06-.94-2.06-.94-.94-2.06-.94 2.06-2.06.94z\"/><path d=\"M17.41 7.96l-1.37-1.37c-.4-.4-.92-.59-1.43-.59-.52 0-1.04.2-1.43.59L10.3 9.45l-7.72 7.72c-.78.78-.78 2.05 0 2.83L4 21.41c.39.39.9.59 1.41.59.51 0 1.02-.2 1.41-.59l7.78-7.78 2.81-2.81c.8-.78.8-2.07 0-2.86zM5.41 20L4 18.59l7.72-7.72 1.47 1.35L5.41 20z\"/>\n",
              "  </svg>\n",
              "      </button>\n",
              "      \n",
              "  <style>\n",
              "    .colab-df-container {\n",
              "      display:flex;\n",
              "      flex-wrap:wrap;\n",
              "      gap: 12px;\n",
              "    }\n",
              "\n",
              "    .colab-df-convert {\n",
              "      background-color: #E8F0FE;\n",
              "      border: none;\n",
              "      border-radius: 50%;\n",
              "      cursor: pointer;\n",
              "      display: none;\n",
              "      fill: #1967D2;\n",
              "      height: 32px;\n",
              "      padding: 0 0 0 0;\n",
              "      width: 32px;\n",
              "    }\n",
              "\n",
              "    .colab-df-convert:hover {\n",
              "      background-color: #E2EBFA;\n",
              "      box-shadow: 0px 1px 2px rgba(60, 64, 67, 0.3), 0px 1px 3px 1px rgba(60, 64, 67, 0.15);\n",
              "      fill: #174EA6;\n",
              "    }\n",
              "\n",
              "    [theme=dark] .colab-df-convert {\n",
              "      background-color: #3B4455;\n",
              "      fill: #D2E3FC;\n",
              "    }\n",
              "\n",
              "    [theme=dark] .colab-df-convert:hover {\n",
              "      background-color: #434B5C;\n",
              "      box-shadow: 0px 1px 3px 1px rgba(0, 0, 0, 0.15);\n",
              "      filter: drop-shadow(0px 1px 2px rgba(0, 0, 0, 0.3));\n",
              "      fill: #FFFFFF;\n",
              "    }\n",
              "  </style>\n",
              "\n",
              "      <script>\n",
              "        const buttonEl =\n",
              "          document.querySelector('#df-9cb3c89f-3352-432a-9f98-d61a7fb2e44b button.colab-df-convert');\n",
              "        buttonEl.style.display =\n",
              "          google.colab.kernel.accessAllowed ? 'block' : 'none';\n",
              "\n",
              "        async function convertToInteractive(key) {\n",
              "          const element = document.querySelector('#df-9cb3c89f-3352-432a-9f98-d61a7fb2e44b');\n",
              "          const dataTable =\n",
              "            await google.colab.kernel.invokeFunction('convertToInteractive',\n",
              "                                                     [key], {});\n",
              "          if (!dataTable) return;\n",
              "\n",
              "          const docLinkHtml = 'Like what you see? Visit the ' +\n",
              "            '<a target=\"_blank\" href=https://colab.research.google.com/notebooks/data_table.ipynb>data table notebook</a>'\n",
              "            + ' to learn more about interactive tables.';\n",
              "          element.innerHTML = '';\n",
              "          dataTable['output_type'] = 'display_data';\n",
              "          await google.colab.output.renderOutput(dataTable, element);\n",
              "          const docLink = document.createElement('div');\n",
              "          docLink.innerHTML = docLinkHtml;\n",
              "          element.appendChild(docLink);\n",
              "        }\n",
              "      </script>\n",
              "    </div>\n",
              "  </div>\n",
              "  "
            ]
          },
          "metadata": {},
          "execution_count": 65
        }
      ]
    },
    {
      "cell_type": "code",
      "source": [
        "#comparing the two classifiers\n",
        "ax= classifiers_comparison.plot(kind=\"bar\",title=\"Naive Bayes vs Word List Classifier\")\n",
        "ax.set_ylabel(\"Score\")\n",
        "ax.set_xlabel(\"Evaluation Type\")"
      ],
      "metadata": {
        "colab": {
          "base_uri": "https://localhost:8080/",
          "height": 349
        },
        "id": "TIemW6tHW9Cf",
        "outputId": "889d84e8-58fb-460f-c122-83c1fc884d99"
      },
      "execution_count": null,
      "outputs": [
        {
          "output_type": "execute_result",
          "data": {
            "text/plain": [
              "Text(0.5, 0, 'Evaluation Type')"
            ]
          },
          "metadata": {},
          "execution_count": 66
        },
        {
          "output_type": "display_data",
          "data": {
            "text/plain": [
              "<Figure size 432x288 with 1 Axes>"
            ],
            "image/png": "[encoded data removed]"
          },
          "metadata": {
            "needs_background": "light"
          }
        }
      ]
    },
    {
      "cell_type": "code",
      "source": [
        "##Checking the balance of the training data\n",
        "\n",
        "words, i= zip(*training_data)\n",
        "negcount= 0\n",
        "poscount= 0\n",
        "for j in i:\n",
        "  if j =='neg':\n",
        "    negcount+= 1\n",
        "  if j =='pos':\n",
        "    poscount+= 1\n",
        "print('Training Data Positive Reviews: ',poscount)\n",
        "print('Training Negative Reviews: ',negcount)"
      ],
      "metadata": {
        "colab": {
          "base_uri": "https://localhost:8080/"
        },
        "id": "b6CWH8OjK_hF",
        "outputId": "87850460-a82b-41e6-bd4f-c31bd7ad273a"
      },
      "execution_count": null,
      "outputs": [
        {
          "output_type": "stream",
          "name": "stdout",
          "text": [
            "Training Data Positive Reviews:  700\n",
            "Training Negative Reviews:  700\n"
          ]
        }
      ]
    },
    {
      "cell_type": "markdown",
      "metadata": {
        "id": "bytPkuHf2XUO"
      },
      "source": [
        "The evaluation scores of the Naive Bayes Classifier are higher than those of the word list classifier.\n",
        "\n",
        "*Accuracy*\n",
        "\n",
        "Because we have balanced binary classes, the accuracy score is a reliable way of evaluating these two classifiers. The Naive Bayes classifier, is therefore, likely to be correct in guessing that 76% of all reviews are positive. The word list classifier will correctly guess that 61% of all the reviews are positive.\n",
        "\n",
        "*Recall*\n",
        "\n",
        "The recall of the naive bayes is 96%- this means that for every 100 reviews in the data, 96 of them are classified as positive, but the other 4 reviews are wrongly classified as negative. On the other hand, the word list classifier correctly predicts only 86 positives reviews as positive, and wrongly predicts 14 positives as negatives.\n",
        "\n",
        "*Precision*\n",
        "\n",
        "In the Naive Bayes classifier for every 100 reviews classified as positive, only 68 are actually positive, while 32 wrongly classified as positives. This is about 11% higher than the word list classifier which has a precision of only 57% .\n",
        "\n",
        "*F1 Score*\n",
        "\n",
        "The naive bayes classifier has a higher harmonic mean than the word list classifier.\n"
      ]
    },
    {
      "cell_type": "markdown",
      "metadata": {
        "id": "LGDXaVDqOSfY"
      },
      "source": [
        "5)\n",
        "a) Design and **carry out an experiment** into the impact of the **length of the wordlists** on the wordlist classifier.  Make sure you **describe** design decisions in your experiment, include a **graph** of your results and **discuss** your conclusions.\n",
        "\n",
        "b) Would you **recommend** a wordlist classifier or a Naive Bayes classifier for future work in this area?  **Justify** your answer.\n",
        "\n",
        "[25\\%]\n"
      ]
    },
    {
      "cell_type": "code",
      "execution_count": null,
      "metadata": {
        "id": "T1L7mZ-k2XUQ"
      },
      "outputs": [],
      "source": [
        "#Experimenting the effect of length on classifier\n",
        "wordlist_length=list(range(10,700,50))\n",
        "reviews,goldstandard=zip(*testing_basic)\n",
        "accresults={}\n",
        "precresults={}\n",
        "\n",
        "\n",
        "for k in wordlist_length:\n",
        "    #training the data and getting the wordlists of each k\n",
        "    reviewClassifier= MFW_Classifier(k)\n",
        "    reviewClassifier.train(training_norm)\n",
        "    #Classifying the test data\n",
        "    reviews_scores= reviewClassifier.score_many(reviews)\n",
        "    predictions=reviewClassifier.classify_many(reviews_scores)\n",
        "    #Evaluating the classifier\n",
        "    matrix= ConfusionMatrix(predictions,goldstandard)\n",
        "\n",
        "    accuracy=matrix.accuracy()\n",
        "    prec = matrix.precision()\n",
        "    accresults[k]=accuracy\n",
        "    precresults[k]=prec\n",
        "\n",
        "\n",
        "\n"
      ]
    },
    {
      "cell_type": "code",
      "source": [
        "#creating a dataframe of accuracy and precision of each wordlist length\n",
        "df= pd.DataFrame([accresults, precresults], index=['Accuracy', 'Precision'])\n",
        "df= df.transpose()\n",
        "df"
      ],
      "metadata": {
        "colab": {
          "base_uri": "https://localhost:8080/",
          "height": 488
        },
        "id": "U9UAraxMpnMk",
        "outputId": "e9b202b7-1f42-4d2c-df0e-b6beab0a27df"
      },
      "execution_count": null,
      "outputs": [
        {
          "output_type": "execute_result",
          "data": {
            "text/plain": [
              "     Accuracy  Precision\n",
              "10   0.610000   0.572368\n",
              "60   0.598333   0.563991\n",
              "110  0.605000   0.568627\n",
              "160  0.603333   0.568282\n",
              "210  0.603333   0.567686\n",
              "260  0.600000   0.565789\n",
              "310  0.596667   0.563319\n",
              "360  0.601667   0.566161\n",
              "410  0.606667   0.570485\n",
              "460  0.606667   0.570796\n",
              "510  0.611667   0.573951\n",
              "560  0.593333   0.561674\n",
              "610  0.596667   0.564159\n",
              "660  0.608333   0.571429"
            ],
            "text/html": [
              "\n",
              "  <div id=\"df-9b9d80c5-02d3-45f0-912e-2375983fcccf\">\n",
              "    <div class=\"colab-df-container\">\n",
              "      <div>\n",
              "<style scoped>\n",
              "    .dataframe tbody tr th:only-of-type {\n",
              "        vertical-align: middle;\n",
              "    }\n",
              "\n",
              "    .dataframe tbody tr th {\n",
              "        vertical-align: top;\n",
              "    }\n",
              "\n",
              "    .dataframe thead th {\n",
              "        text-align: right;\n",
              "    }\n",
              "</style>\n",
              "<table border=\"1\" class=\"dataframe\">\n",
              "  <thead>\n",
              "    <tr style=\"text-align: right;\">\n",
              "      <th></th>\n",
              "      <th>Accuracy</th>\n",
              "      <th>Precision</th>\n",
              "    </tr>\n",
              "  </thead>\n",
              "  <tbody>\n",
              "    <tr>\n",
              "      <th>10</th>\n",
              "      <td>0.610000</td>\n",
              "      <td>0.572368</td>\n",
              "    </tr>\n",
              "    <tr>\n",
              "      <th>60</th>\n",
              "      <td>0.598333</td>\n",
              "      <td>0.563991</td>\n",
              "    </tr>\n",
              "    <tr>\n",
              "      <th>110</th>\n",
              "      <td>0.605000</td>\n",
              "      <td>0.568627</td>\n",
              "    </tr>\n",
              "    <tr>\n",
              "      <th>160</th>\n",
              "      <td>0.603333</td>\n",
              "      <td>0.568282</td>\n",
              "    </tr>\n",
              "    <tr>\n",
              "      <th>210</th>\n",
              "      <td>0.603333</td>\n",
              "      <td>0.567686</td>\n",
              "    </tr>\n",
              "    <tr>\n",
              "      <th>260</th>\n",
              "      <td>0.600000</td>\n",
              "      <td>0.565789</td>\n",
              "    </tr>\n",
              "    <tr>\n",
              "      <th>310</th>\n",
              "      <td>0.596667</td>\n",
              "      <td>0.563319</td>\n",
              "    </tr>\n",
              "    <tr>\n",
              "      <th>360</th>\n",
              "      <td>0.601667</td>\n",
              "      <td>0.566161</td>\n",
              "    </tr>\n",
              "    <tr>\n",
              "      <th>410</th>\n",
              "      <td>0.606667</td>\n",
              "      <td>0.570485</td>\n",
              "    </tr>\n",
              "    <tr>\n",
              "      <th>460</th>\n",
              "      <td>0.606667</td>\n",
              "      <td>0.570796</td>\n",
              "    </tr>\n",
              "    <tr>\n",
              "      <th>510</th>\n",
              "      <td>0.611667</td>\n",
              "      <td>0.573951</td>\n",
              "    </tr>\n",
              "    <tr>\n",
              "      <th>560</th>\n",
              "      <td>0.593333</td>\n",
              "      <td>0.561674</td>\n",
              "    </tr>\n",
              "    <tr>\n",
              "      <th>610</th>\n",
              "      <td>0.596667</td>\n",
              "      <td>0.564159</td>\n",
              "    </tr>\n",
              "    <tr>\n",
              "      <th>660</th>\n",
              "      <td>0.608333</td>\n",
              "      <td>0.571429</td>\n",
              "    </tr>\n",
              "  </tbody>\n",
              "</table>\n",
              "</div>\n",
              "      <button class=\"colab-df-convert\" onclick=\"convertToInteractive('df-9b9d80c5-02d3-45f0-912e-2375983fcccf')\"\n",
              "              title=\"Convert this dataframe to an interactive table.\"\n",
              "              style=\"display:none;\">\n",
              "        \n",
              "  <svg xmlns=\"http://www.w3.org/2000/svg\" height=\"24px\"viewBox=\"0 0 24 24\"\n",
              "       width=\"24px\">\n",
              "    <path d=\"M0 0h24v24H0V0z\" fill=\"none\"/>\n",
              "    <path d=\"M18.56 5.44l.94 2.06.94-2.06 2.06-.94-2.06-.94-.94-2.06-.94 2.06-2.06.94zm-11 1L8.5 8.5l.94-2.06 2.06-.94-2.06-.94L8.5 2.5l-.94 2.06-2.06.94zm10 10l.94 2.06.94-2.06 2.06-.94-2.06-.94-.94-2.06-.94 2.06-2.06.94z\"/><path d=\"M17.41 7.96l-1.37-1.37c-.4-.4-.92-.59-1.43-.59-.52 0-1.04.2-1.43.59L10.3 9.45l-7.72 7.72c-.78.78-.78 2.05 0 2.83L4 21.41c.39.39.9.59 1.41.59.51 0 1.02-.2 1.41-.59l7.78-7.78 2.81-2.81c.8-.78.8-2.07 0-2.86zM5.41 20L4 18.59l7.72-7.72 1.47 1.35L5.41 20z\"/>\n",
              "  </svg>\n",
              "      </button>\n",
              "      \n",
              "  <style>\n",
              "    .colab-df-container {\n",
              "      display:flex;\n",
              "      flex-wrap:wrap;\n",
              "      gap: 12px;\n",
              "    }\n",
              "\n",
              "    .colab-df-convert {\n",
              "      background-color: #E8F0FE;\n",
              "      border: none;\n",
              "      border-radius: 50%;\n",
              "      cursor: pointer;\n",
              "      display: none;\n",
              "      fill: #1967D2;\n",
              "      height: 32px;\n",
              "      padding: 0 0 0 0;\n",
              "      width: 32px;\n",
              "    }\n",
              "\n",
              "    .colab-df-convert:hover {\n",
              "      background-color: #E2EBFA;\n",
              "      box-shadow: 0px 1px 2px rgba(60, 64, 67, 0.3), 0px 1px 3px 1px rgba(60, 64, 67, 0.15);\n",
              "      fill: #174EA6;\n",
              "    }\n",
              "\n",
              "    [theme=dark] .colab-df-convert {\n",
              "      background-color: #3B4455;\n",
              "      fill: #D2E3FC;\n",
              "    }\n",
              "\n",
              "    [theme=dark] .colab-df-convert:hover {\n",
              "      background-color: #434B5C;\n",
              "      box-shadow: 0px 1px 3px 1px rgba(0, 0, 0, 0.15);\n",
              "      filter: drop-shadow(0px 1px 2px rgba(0, 0, 0, 0.3));\n",
              "      fill: #FFFFFF;\n",
              "    }\n",
              "  </style>\n",
              "\n",
              "      <script>\n",
              "        const buttonEl =\n",
              "          document.querySelector('#df-9b9d80c5-02d3-45f0-912e-2375983fcccf button.colab-df-convert');\n",
              "        buttonEl.style.display =\n",
              "          google.colab.kernel.accessAllowed ? 'block' : 'none';\n",
              "\n",
              "        async function convertToInteractive(key) {\n",
              "          const element = document.querySelector('#df-9b9d80c5-02d3-45f0-912e-2375983fcccf');\n",
              "          const dataTable =\n",
              "            await google.colab.kernel.invokeFunction('convertToInteractive',\n",
              "                                                     [key], {});\n",
              "          if (!dataTable) return;\n",
              "\n",
              "          const docLinkHtml = 'Like what you see? Visit the ' +\n",
              "            '<a target=\"_blank\" href=https://colab.research.google.com/notebooks/data_table.ipynb>data table notebook</a>'\n",
              "            + ' to learn more about interactive tables.';\n",
              "          element.innerHTML = '';\n",
              "          dataTable['output_type'] = 'display_data';\n",
              "          await google.colab.output.renderOutput(dataTable, element);\n",
              "          const docLink = document.createElement('div');\n",
              "          docLink.innerHTML = docLinkHtml;\n",
              "          element.appendChild(docLink);\n",
              "        }\n",
              "      </script>\n",
              "    </div>\n",
              "  </div>\n",
              "  "
            ]
          },
          "metadata": {},
          "execution_count": 69
        }
      ]
    },
    {
      "cell_type": "code",
      "execution_count": null,
      "metadata": {
        "id": "VT82P88M2XUQ",
        "colab": {
          "base_uri": "https://localhost:8080/",
          "height": 313
        },
        "outputId": "31c5db8b-e5ba-42ce-864e-e4a069b89f33"
      },
      "outputs": [
        {
          "output_type": "execute_result",
          "data": {
            "text/plain": [
              "(0.55, 0.7)"
            ]
          },
          "metadata": {},
          "execution_count": 70
        },
        {
          "output_type": "display_data",
          "data": {
            "text/plain": [
              "<Figure size 432x288 with 1 Axes>"
            ],
            "image/png": "[encoded data removed]"
          },
          "metadata": {
            "needs_background": "light"
          }
        }
      ],
      "source": [
        "#Comparing wordlist lengths metrics\n",
        "ax = df.plot(kind=\"line\",title=\"Evaluation Scores of Different Wordlist Lengths\")\n",
        "ax.set_ylabel(\"Score\")\n",
        "ax.set_xlabel(\"Length of wordlist\")\n",
        "ax.set_ylim(0.550,0.7)"
      ]
    },
    {
      "cell_type": "markdown",
      "metadata": {
        "id": "UlxoUthX2XUP"
      },
      "source": [
        "\n",
        "**The Impact of wordlist length on the wordlist classifier**\n",
        "\n",
        "To check the impact of different lengths of the wordlist on the classifier, the first step is to create a variable of type list, that takes integers of different magnitudes. The experiment in this case takes a list of 7 numbers of varying intensities. Each number is saved into the variable k. The second step is to give each of these numbers to the MFW_Classifier. This classifier returns two lists each of length k. These lists contain words that are the most relevant in the positive and negative classes. Using these different lengths of wordlists, the classifier predicts the label of each review in the testing_basic variable. The testing_basic variable is a frequency distribution of words in each review.\n",
        "The final step in the experiment is to find the accuracy and precision of these predictions, by calling the these functions from the ConfusionMatrix matrix. The k variable(length of word list) is stored as a key in the results variable, and the evaluation score of the corresponding length is stored as a value.\n",
        "\n",
        "*Results and Conclusion*\n",
        "\n",
        "The results show that the length of the word list does not affect the accuracy and precision of the classifier by a large margin. There exists only a 0.01 difference in the maximum and minimum precisions and accuracies.\n",
        "\n",
        "It is reasonable to conclude that words that appear at a higher frequency in a class are more reliable in classifying a review, compared to words that occur rarely. Rare words, therefore, give no information on whether a review is positive or negative.\n",
        "\n",
        "**Recommendations**\n",
        "\n",
        "It is easy to assume that the longer the wordlist, the better the wordlist classifier would perform. However, the experiment above proves this assumption wrong. Using a wordlist classifier is, therefore, not a recommended strategy for documents classification. On the other hand, the Naive Bayes classifier performed 10-14% better in classifying reviews than the wordlist classifier. I therefore, highly recommend the naive bayes classifier for document classification.  "
      ]
    },
    {
      "cell_type": "code",
      "source": [
        "from google.colab import drive\n",
        "drive.mount('/content/drive')"
      ],
      "metadata": {
        "colab": {
          "base_uri": "https://localhost:8080/"
        },
        "id": "aIezLWhW8JfL",
        "outputId": "36eb99d3-7d39-4fec-c1f0-7cfaca50f8ac"
      },
      "execution_count": null,
      "outputs": [
        {
          "output_type": "stream",
          "name": "stdout",
          "text": [
            "Drive already mounted at /content/drive; to attempt to forcibly remount, call drive.mount(\"/content/drive\", force_remount=True).\n"
          ]
        }
      ]
    },
    {
      "cell_type": "code",
      "execution_count": null,
      "metadata": {
        "id": "34rdlS_iPov6",
        "colab": {
          "base_uri": "https://localhost:8080/"
        },
        "outputId": "25672c6d-1349-49bf-8b73-acd39c1370b3"
      },
      "outputs": [
        {
          "output_type": "stream",
          "name": "stdout",
          "text": [
            "Submission length is 1482\n"
          ]
        }
      ],
      "source": [
        "##This code will word count all of the markdown cells in the notebook saved at filepath\n",
        "##Running it before providing any answers shows that the questions have a word count of 437\n",
        "\n",
        "import io\n",
        "from nbformat import current\n",
        "\n",
        "#filepath=\"/content/drive/My Drive/NLE Notebooks/assessment/assignment1.ipynb\"\n",
        "filepath=\"/content/drive/MyDrive/Colab Notebooks/NLassignment2022.ipynb\"\n",
        "question_count=437\n",
        "\n",
        "with io.open(filepath, 'r', encoding='utf-8') as f:\n",
        "    nb = current.read(f, 'json')\n",
        "\n",
        "word_count = 0\n",
        "for cell in nb.worksheets[0].cells:\n",
        "    if cell.cell_type == \"markdown\":\n",
        "        word_count += len(cell['source'].replace('#', '').lstrip().split(' '))\n",
        "print(\"Submission length is {}\".format(word_count-question_count))"
      ]
    },
    {
      "cell_type": "code",
      "execution_count": null,
      "metadata": {
        "id": "PtqCcG6wPsmf"
      },
      "outputs": [],
      "source": []
    }
  ],
  "metadata": {
    "colab": {
      "provenance": []
    },
    "kernelspec": {
      "display_name": "Python 3",
      "language": "python",
      "name": "python3"
    },
    "language_info": {
      "codemirror_mode": {
        "name": "ipython",
        "version": 3
      },
      "file_extension": ".py",
      "mimetype": "text/x-python",
      "name": "python",
      "nbconvert_exporter": "python",
      "pygments_lexer": "ipython3",
      "version": "3.7.4"
    }
  },
  "nbformat": 4,
  "nbformat_minor": 0
}